{
 "cells": [
  {
   "cell_type": "code",
   "execution_count": null,
   "id": "ca2625b2",
   "metadata": {},
   "outputs": [],
   "source": [
    "Data Type:\n",
    "    int\n",
    "    float\n",
    "    str\n",
    "    bool\n",
    "    None\n",
    "    #complex\n",
    "DS:\n",
    "    list\n",
    "    tuple\n",
    "    set\n",
    "    dict\n",
    "    str -- 4 hr\n",
    "    frozenset 1"
   ]
  },
  {
   "cell_type": "code",
   "execution_count": 3,
   "id": "c86cb111",
   "metadata": {},
   "outputs": [],
   "source": [
    "a = 100"
   ]
  },
  {
   "cell_type": "code",
   "execution_count": 4,
   "id": "c9c932de",
   "metadata": {},
   "outputs": [
    {
     "data": {
      "text/plain": [
       "int"
      ]
     },
     "execution_count": 4,
     "metadata": {},
     "output_type": "execute_result"
    }
   ],
   "source": [
    "type(a)"
   ]
  },
  {
   "cell_type": "code",
   "execution_count": 5,
   "id": "f51c7bc9",
   "metadata": {},
   "outputs": [],
   "source": [
    "py_float = 45.56"
   ]
  },
  {
   "cell_type": "code",
   "execution_count": 6,
   "id": "d01ab395",
   "metadata": {},
   "outputs": [
    {
     "data": {
      "text/plain": [
       "float"
      ]
     },
     "execution_count": 6,
     "metadata": {},
     "output_type": "execute_result"
    }
   ],
   "source": [
    "type(py_float)"
   ]
  },
  {
   "cell_type": "code",
   "execution_count": 7,
   "id": "a2812a18",
   "metadata": {},
   "outputs": [],
   "source": [
    "py = 'Python'"
   ]
  },
  {
   "cell_type": "code",
   "execution_count": 8,
   "id": "fb482bf6",
   "metadata": {},
   "outputs": [
    {
     "data": {
      "text/plain": [
       "str"
      ]
     },
     "execution_count": 8,
     "metadata": {},
     "output_type": "execute_result"
    }
   ],
   "source": [
    "type(py)"
   ]
  },
  {
   "cell_type": "code",
   "execution_count": 9,
   "id": "6066f3e8",
   "metadata": {},
   "outputs": [],
   "source": [
    "p = 'a'"
   ]
  },
  {
   "cell_type": "code",
   "execution_count": 10,
   "id": "d0fbb99c",
   "metadata": {},
   "outputs": [
    {
     "data": {
      "text/plain": [
       "str"
      ]
     },
     "execution_count": 10,
     "metadata": {},
     "output_type": "execute_result"
    }
   ],
   "source": [
    "type(p)"
   ]
  },
  {
   "cell_type": "code",
   "execution_count": 12,
   "id": "e783ea71",
   "metadata": {},
   "outputs": [],
   "source": [
    "a = True"
   ]
  },
  {
   "cell_type": "code",
   "execution_count": 13,
   "id": "ede00562",
   "metadata": {},
   "outputs": [
    {
     "data": {
      "text/plain": [
       "bool"
      ]
     },
     "execution_count": 13,
     "metadata": {},
     "output_type": "execute_result"
    }
   ],
   "source": [
    "type(a)"
   ]
  },
  {
   "cell_type": "code",
   "execution_count": null,
   "id": "56bf301b",
   "metadata": {},
   "outputs": [],
   "source": [
    "True ---> 1\n",
    "False ---> 0"
   ]
  },
  {
   "cell_type": "code",
   "execution_count": 14,
   "id": "65020cd1",
   "metadata": {},
   "outputs": [
    {
     "data": {
      "text/plain": [
       "2"
      ]
     },
     "execution_count": 14,
     "metadata": {},
     "output_type": "execute_result"
    }
   ],
   "source": [
    "True+True"
   ]
  },
  {
   "cell_type": "code",
   "execution_count": null,
   "id": "8daa4a5f",
   "metadata": {},
   "outputs": [],
   "source": [
    "bool --True/False"
   ]
  },
  {
   "cell_type": "code",
   "execution_count": 15,
   "id": "9a4514dc",
   "metadata": {},
   "outputs": [],
   "source": [
    "a = None"
   ]
  },
  {
   "cell_type": "code",
   "execution_count": 16,
   "id": "35fd8d31",
   "metadata": {},
   "outputs": [],
   "source": [
    "a"
   ]
  },
  {
   "cell_type": "code",
   "execution_count": 17,
   "id": "c1e729f1",
   "metadata": {},
   "outputs": [
    {
     "name": "stdout",
     "output_type": "stream",
     "text": [
      "None\n"
     ]
    }
   ],
   "source": [
    "print(a)"
   ]
  },
  {
   "cell_type": "code",
   "execution_count": null,
   "id": "199c5048",
   "metadata": {},
   "outputs": [],
   "source": [
    "empty variable ---> None"
   ]
  },
  {
   "cell_type": "code",
   "execution_count": null,
   "id": "103b72a4",
   "metadata": {},
   "outputs": [],
   "source": [
    "complex -->\n",
    "\n",
    "\n",
    "real+img"
   ]
  },
  {
   "cell_type": "code",
   "execution_count": 18,
   "id": "5caaa4a1",
   "metadata": {},
   "outputs": [],
   "source": [
    "a = 10+45j "
   ]
  },
  {
   "cell_type": "code",
   "execution_count": 19,
   "id": "8a14cc12",
   "metadata": {},
   "outputs": [
    {
     "data": {
      "text/plain": [
       "complex"
      ]
     },
     "execution_count": 19,
     "metadata": {},
     "output_type": "execute_result"
    }
   ],
   "source": [
    "type(a)"
   ]
  },
  {
   "cell_type": "code",
   "execution_count": 20,
   "id": "70dc1ea6",
   "metadata": {},
   "outputs": [
    {
     "data": {
      "text/plain": [
       "(450+900j)"
      ]
     },
     "execution_count": 20,
     "metadata": {},
     "output_type": "execute_result"
    }
   ],
   "source": [
    "450 + 900j  --> use nahi "
   ]
  },
  {
   "cell_type": "code",
   "execution_count": 24,
   "id": "21d1ed8c",
   "metadata": {},
   "outputs": [],
   "source": [
    "test = None"
   ]
  },
  {
   "cell_type": "code",
   "execution_count": 26,
   "id": "bf41c8e7",
   "metadata": {},
   "outputs": [],
   "source": [
    "\n",
    "temp = None"
   ]
  },
  {
   "cell_type": "code",
   "execution_count": 27,
   "id": "261af584",
   "metadata": {},
   "outputs": [],
   "source": [
    "temp = 755"
   ]
  },
  {
   "cell_type": "code",
   "execution_count": 29,
   "id": "a43b3437",
   "metadata": {},
   "outputs": [
    {
     "data": {
      "text/plain": [
       "755"
      ]
     },
     "execution_count": 29,
     "metadata": {},
     "output_type": "execute_result"
    }
   ],
   "source": [
    "temp"
   ]
  },
  {
   "cell_type": "code",
   "execution_count": 30,
   "id": "76f98fa8",
   "metadata": {},
   "outputs": [],
   "source": [
    "t = None"
   ]
  },
  {
   "cell_type": "code",
   "execution_count": 31,
   "id": "2efea175",
   "metadata": {},
   "outputs": [
    {
     "name": "stdout",
     "output_type": "stream",
     "text": [
      "None\n"
     ]
    }
   ],
   "source": [
    "print(t)"
   ]
  },
  {
   "cell_type": "code",
   "execution_count": 32,
   "id": "8fb181de",
   "metadata": {},
   "outputs": [
    {
     "name": "stdout",
     "output_type": "stream",
     "text": [
      "True\n"
     ]
    }
   ],
   "source": [
    "print(True)"
   ]
  },
  {
   "cell_type": "code",
   "execution_count": 33,
   "id": "3cfafb43",
   "metadata": {},
   "outputs": [
    {
     "data": {
      "text/plain": [
       "1"
      ]
     },
     "execution_count": 33,
     "metadata": {},
     "output_type": "execute_result"
    }
   ],
   "source": [
    "True+False"
   ]
  },
  {
   "cell_type": "code",
   "execution_count": null,
   "id": "cf150bdb",
   "metadata": {},
   "outputs": [],
   "source": [
    "Python:\n",
    "    #Interviw List vs Tuple"
   ]
  },
  {
   "cell_type": "code",
   "execution_count": null,
   "id": "825bf1c6",
   "metadata": {},
   "outputs": [],
   "source": [
    "Python\n",
    "Adv Python\n",
    "Django\n",
    "ML \n",
    "pandas\n",
    "numpy\n",
    "seaborn\n",
    "matplotlib\n",
    "scikitlearn\n",
    "LR\n",
    "LR\n",
    "DT\n",
    "RF\n",
    "XG\n",
    "SQL -- mysql/server/postgray/mongodb\n",
    "ETL\n"
   ]
  },
  {
   "cell_type": "code",
   "execution_count": null,
   "id": "6b4180a3",
   "metadata": {},
   "outputs": [],
   "source": [
    "sat :\n",
    "    git\n",
    "    docker\n",
    "    jenkins\n",
    "    aws"
   ]
  },
  {
   "cell_type": "code",
   "execution_count": 36,
   "id": "c21b5ea4",
   "metadata": {},
   "outputs": [],
   "source": [
    "a = 45"
   ]
  },
  {
   "cell_type": "code",
   "execution_count": 37,
   "id": "b00c7818",
   "metadata": {},
   "outputs": [
    {
     "data": {
      "text/plain": [
       "45"
      ]
     },
     "execution_count": 37,
     "metadata": {},
     "output_type": "execute_result"
    }
   ],
   "source": [
    "a"
   ]
  },
  {
   "cell_type": "code",
   "execution_count": null,
   "id": "80a5fe82",
   "metadata": {},
   "outputs": [],
   "source": [
    "django"
   ]
  },
  {
   "cell_type": "code",
   "execution_count": null,
   "id": "8022fdc2",
   "metadata": {},
   "outputs": [],
   "source": []
  },
  {
   "cell_type": "code",
   "execution_count": null,
   "id": "325a6bb9",
   "metadata": {},
   "outputs": [],
   "source": []
  },
  {
   "cell_type": "code",
   "execution_count": null,
   "id": "963d90e2",
   "metadata": {},
   "outputs": [],
   "source": []
  },
  {
   "cell_type": "code",
   "execution_count": null,
   "id": "cd043dc2",
   "metadata": {},
   "outputs": [],
   "source": []
  },
  {
   "cell_type": "code",
   "execution_count": null,
   "id": "a84531a0",
   "metadata": {},
   "outputs": [],
   "source": []
  },
  {
   "cell_type": "code",
   "execution_count": null,
   "id": "19eeb0c5",
   "metadata": {},
   "outputs": [],
   "source": []
  }
 ],
 "metadata": {
  "kernelspec": {
   "display_name": "Python 3 (ipykernel)",
   "language": "python",
   "name": "python3"
  },
  "language_info": {
   "codemirror_mode": {
    "name": "ipython",
    "version": 3
   },
   "file_extension": ".py",
   "mimetype": "text/x-python",
   "name": "python",
   "nbconvert_exporter": "python",
   "pygments_lexer": "ipython3",
   "version": "3.9.12"
  }
 },
 "nbformat": 4,
 "nbformat_minor": 5
}
